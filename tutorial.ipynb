{
 "cells": [
  {
   "cell_type": "markdown",
   "id": "2896195c-f3fd-48b0-8ca5-c85a71de39d6",
   "metadata": {},
   "source": [
    "# LakeFS"
   ]
  },
  {
   "cell_type": "markdown",
   "id": "2c2f10c3-4735-4fd1-8e81-dc3b9e91809f",
   "metadata": {},
   "source": [
    "LakeFS est un outil de contrôle de version pour les données. Il offre des fonctionnalités pareilles à celles de Git (CI/CD, repositories, commits ...). Il permet de contrôler de données hébergées sur GCS, AWS S3, Azure Blob Storage et n'importe quel service de stockage de données qui implémente une interface S3."
   ]
  },
  {
   "cell_type": "markdown",
   "id": "249afb7a-a69d-4fe9-8bce-040d186d8e52",
   "metadata": {},
   "source": [
    "**Installer la CLI de lakefs ``lakectl``**"
   ]
  },
  {
   "cell_type": "code",
   "execution_count": 3,
   "id": "5f1b4bbd-4bed-4bf3-9cf9-4363b106abad",
   "metadata": {},
   "outputs": [],
   "source": [
    "!sudo sh install-lakectl.sh\n",
    "!lakectl --version"
   ]
  },
  {
   "cell_type": "markdown",
   "id": "d6f6b26c-5954-47f7-97e2-574a192257ec",
   "metadata": {},
   "source": [
    "**Connecter sur lakefs**\n",
    "\n",
    "Il faut d'abord lancer le service LakeFS sur DataLab et désactiver le paramètre ``security.allowlist.enabled``.\n",
    "<br> La sortie de Jupyter n'est pas interactive donc il faut exécuter la commande ``lakectl config`` dans une terminale. "
   ]
  },
  {
   "cell_type": "code",
   "execution_count": null,
   "id": "4e0ae421-1bdd-43d9-b2a7-4acd2f1e6fc9",
   "metadata": {},
   "outputs": [],
   "source": [
    "!lakectl config"
   ]
  },
  {
   "cell_type": "markdown",
   "id": "e0c009ba-8d5c-4b39-ba50-78508e57d050",
   "metadata": {},
   "source": [
    "**Création d'un repository**\n",
    "\n",
    "Les repositories de LakeFS sont identifiés par un url qui sous la forme: ``lakefs://repository-name``.\n",
    "<br> Le deuxième champ indique le chemin dans lequel LakeFS va enregister les données.\n",
    "<br> LakeFS crée par défaut une branche ``main``."
   ]
  },
  {
   "cell_type": "code",
   "execution_count": 95,
   "id": "769c5d7a-5867-43ff-9080-d382271903af",
   "metadata": {},
   "outputs": [
    {
     "name": "stdout",
     "output_type": "stream",
     "text": [
      "Repository: lakefs://tutorial-2\n",
      "Repository 'tutorial-2' created:\n",
      "storage namespace: s3://mbenxsalha/lakefs_2\n",
      "default branch: main\n",
      "timestamp: 1667208284\n"
     ]
    }
   ],
   "source": [
    "#lakectl repo create <repository uri> <storage namespace> [flags]\n",
    "!lakectl repo create lakefs://tutorial s3://mbenxsalha/lakefs"
   ]
  },
  {
   "cell_type": "code",
   "execution_count": 96,
   "id": "940a5d16-b6c8-4491-a19a-93172a51b24d",
   "metadata": {},
   "outputs": [
    {
     "name": "stdout",
     "output_type": "stream",
     "text": [
      "+------------+-------------------------------+------------------+--------------------------+\n",
      "| REPOSITORY | CREATION DATE                 | DEFAULT REF NAME | STORAGE NAMESPACE        |\n",
      "+------------+-------------------------------+------------------+--------------------------+\n",
      "| tutorial   | 2022-10-31 07:14:35 +0000 UTC | main             | s3://mbenxsalha/lakefs   |\n",
      "| tutorial-2 | 2022-10-31 09:24:44 +0000 UTC | main             | s3://mbenxsalha/lakefs_2 |\n",
      "+------------+-------------------------------+------------------+--------------------------+\n",
      "\n"
     ]
    }
   ],
   "source": [
    "!lakectl repo list"
   ]
  },
  {
   "cell_type": "markdown",
   "id": "8d2378b7-b2f8-472b-bdaa-8fac60e7d867",
   "metadata": {},
   "source": [
    "**Python Client**\n",
    "\n",
    "LakeFS offre aussi un client Python qui permet de manipuler les repositories."
   ]
  },
  {
   "cell_type": "code",
   "execution_count": null,
   "id": "af0feade-8c75-486d-812d-d1ba81f4fdd4",
   "metadata": {},
   "outputs": [],
   "source": [
    "!pip install lakefs_client"
   ]
  },
  {
   "cell_type": "code",
   "execution_count": 97,
   "id": "b6ee68d8-3ec9-4829-9cc6-b199292bfd01",
   "metadata": {},
   "outputs": [
    {
     "data": {
      "text/plain": [
       "{'creation_date': 1667208284,\n",
       " 'default_branch': 'main',\n",
       " 'id': 'tutorial-2',\n",
       " 'storage_namespace': 's3://mbenxsalha/lakefs_2'}"
      ]
     },
     "execution_count": 97,
     "metadata": {},
     "output_type": "execute_result"
    }
   ],
   "source": [
    "import lakefs_client\n",
    "from lakefs_client import models\n",
    "from lakefs_client.client import LakeFSClient\n",
    "# lakeFS credentials and endpoint\n",
    "configuration = lakefs_client.Configuration()\n",
    "configuration.username = 'AKIAJGL4O/EXAMPLE'\n",
    "configuration.password = 'LXrz09Aaf+i0U5fNoo/SECRET-ACESS-KEY'\n",
    "configuration.host = 'https://user-mbenxsalha-930372.user.lab.sspcloud.fr'\n",
    "\n",
    "client = LakeFSClient(configuration)\n",
    "client.repositories.get_repository(\"tutorial\")"
   ]
  },
  {
   "cell_type": "markdown",
   "id": "fce8a94c-32cb-478a-8c22-c9d9a0515e62",
   "metadata": {},
   "source": [
    "Dans ce tutoriel, on va utiliser un tableau csv qui existe sous le chemin ``s3/mbenxsalha/diffusion/DiamondsPrices.csv``. \n",
    "<br> On va l'importer dans notre repository."
   ]
  },
  {
   "cell_type": "code",
   "execution_count": 98,
   "id": "d2bfd4b0-59a9-4336-ad7f-8f366b26fffc",
   "metadata": {},
   "outputs": [
    {
     "data": {
      "text/plain": [
       "{'checksum': 'eb12d9e0556c9d957c275852dc9acc2d',\n",
       " 'content_type': 'application/octet-stream',\n",
       " 'mtime': 1667208306,\n",
       " 'path': 'data.csv',\n",
       " 'path_type': 'object',\n",
       " 'physical_address': 's3://mbenxsalha/lakefs_2/b47793de50f046ffb0993b6eabf5dfb5',\n",
       " 'size_bytes': 2448482}"
      ]
     },
     "execution_count": 98,
     "metadata": {},
     "output_type": "execute_result"
    }
   ],
   "source": [
    "#import data to repository\n",
    "import os\n",
    "import boto3\n",
    "\n",
    "s3 = boto3.client('s3',endpoint_url='https://minio.lab.sspcloud.fr/')\n",
    "data = s3.get_object(Bucket=\"mbenxsalha\", Key=\"diffusion/DiamondsPrices.csv\")[\"Body\"]\n",
    "client.objects.upload_object(repository='tutorial-2', branch='main', path=\"data.csv\", content=data)\n",
    "\n"
   ]
  },
  {
   "cell_type": "markdown",
   "id": "bb87860c-3be1-4718-9132-3206f8319447",
   "metadata": {},
   "source": [
    "**boto3**\n",
    "\n",
    "Il est possible aussi de lire les données d'un repository en utilisant la librairie boto3. Pour ce faire, il faut configurer un client s3. Le paramètre ``endpoint_url`` fait référence au lien du service LakeFS et les paramètres ``aws_access_key_id`` et ``aws_secret_access_key`` correspondent aux paramètres de LakeFS (ceux utilisés dans lakectl config).\n",
    "\n",
    "Un objet dans un repository ``repo`` et une branche ``branch`` est accessible via les paramètres ``Bucket = repo`` et  ``Key = branch/object_relative_path_in_repo``"
   ]
  },
  {
   "cell_type": "code",
   "execution_count": 99,
   "id": "793b5160-37e4-4154-91aa-87ced78e82b2",
   "metadata": {},
   "outputs": [
    {
     "data": {
      "text/html": [
       "<div>\n",
       "<style scoped>\n",
       "    .dataframe tbody tr th:only-of-type {\n",
       "        vertical-align: middle;\n",
       "    }\n",
       "\n",
       "    .dataframe tbody tr th {\n",
       "        vertical-align: top;\n",
       "    }\n",
       "\n",
       "    .dataframe thead th {\n",
       "        text-align: right;\n",
       "    }\n",
       "</style>\n",
       "<table border=\"1\" class=\"dataframe\">\n",
       "  <thead>\n",
       "    <tr style=\"text-align: right;\">\n",
       "      <th></th>\n",
       "      <th>carat</th>\n",
       "      <th>cut</th>\n",
       "      <th>color</th>\n",
       "      <th>clarity</th>\n",
       "      <th>depth</th>\n",
       "      <th>table</th>\n",
       "      <th>price</th>\n",
       "      <th>x</th>\n",
       "      <th>y</th>\n",
       "      <th>z</th>\n",
       "    </tr>\n",
       "  </thead>\n",
       "  <tbody>\n",
       "    <tr>\n",
       "      <th>0</th>\n",
       "      <td>0.23</td>\n",
       "      <td>Ideal</td>\n",
       "      <td>E</td>\n",
       "      <td>SI2</td>\n",
       "      <td>61.5</td>\n",
       "      <td>55.0</td>\n",
       "      <td>326</td>\n",
       "      <td>3.95</td>\n",
       "      <td>3.98</td>\n",
       "      <td>2.43</td>\n",
       "    </tr>\n",
       "    <tr>\n",
       "      <th>1</th>\n",
       "      <td>0.21</td>\n",
       "      <td>Premium</td>\n",
       "      <td>E</td>\n",
       "      <td>SI1</td>\n",
       "      <td>59.8</td>\n",
       "      <td>61.0</td>\n",
       "      <td>326</td>\n",
       "      <td>3.89</td>\n",
       "      <td>3.84</td>\n",
       "      <td>2.31</td>\n",
       "    </tr>\n",
       "    <tr>\n",
       "      <th>2</th>\n",
       "      <td>0.23</td>\n",
       "      <td>Good</td>\n",
       "      <td>E</td>\n",
       "      <td>VS1</td>\n",
       "      <td>56.9</td>\n",
       "      <td>65.0</td>\n",
       "      <td>327</td>\n",
       "      <td>4.05</td>\n",
       "      <td>4.07</td>\n",
       "      <td>2.31</td>\n",
       "    </tr>\n",
       "    <tr>\n",
       "      <th>3</th>\n",
       "      <td>0.29</td>\n",
       "      <td>Premium</td>\n",
       "      <td>I</td>\n",
       "      <td>VS2</td>\n",
       "      <td>62.4</td>\n",
       "      <td>58.0</td>\n",
       "      <td>334</td>\n",
       "      <td>4.20</td>\n",
       "      <td>4.23</td>\n",
       "      <td>2.63</td>\n",
       "    </tr>\n",
       "    <tr>\n",
       "      <th>4</th>\n",
       "      <td>0.31</td>\n",
       "      <td>Good</td>\n",
       "      <td>J</td>\n",
       "      <td>SI2</td>\n",
       "      <td>63.3</td>\n",
       "      <td>58.0</td>\n",
       "      <td>335</td>\n",
       "      <td>4.34</td>\n",
       "      <td>4.35</td>\n",
       "      <td>2.75</td>\n",
       "    </tr>\n",
       "  </tbody>\n",
       "</table>\n",
       "</div>"
      ],
      "text/plain": [
       "   carat      cut color clarity  depth  table  price     x     y     z\n",
       "0   0.23    Ideal     E     SI2   61.5   55.0    326  3.95  3.98  2.43\n",
       "1   0.21  Premium     E     SI1   59.8   61.0    326  3.89  3.84  2.31\n",
       "2   0.23     Good     E     VS1   56.9   65.0    327  4.05  4.07  2.31\n",
       "3   0.29  Premium     I     VS2   62.4   58.0    334  4.20  4.23  2.63\n",
       "4   0.31     Good     J     SI2   63.3   58.0    335  4.34  4.35  2.75"
      ]
     },
     "execution_count": 99,
     "metadata": {},
     "output_type": "execute_result"
    }
   ],
   "source": [
    "#read data from repository\n",
    "import pandas as pd\n",
    "\n",
    "s3 = boto3.client('s3',\n",
    "    endpoint_url='https://user-mbenxsalha-930372.user.lab.sspcloud.fr/',\n",
    "    aws_access_key_id='AKIAJGL4O/EXAMPLE',\n",
    "    aws_secret_access_key='LXrz09Aaf+i0U5fNoo/SECRET-ACESS-KEY')\n",
    "\n",
    "data = s3.get_object(Bucket=\"tutorial\", Key=\"main/data.csv\")[\"Body\"]\n",
    "\n",
    "df = pd.read_csv(data)\n",
    "df.head()"
   ]
  },
  {
   "cell_type": "markdown",
   "id": "c37025d1-99d6-4cb2-ac99-6392134845ce",
   "metadata": {},
   "source": [
    "**Commit**"
   ]
  },
  {
   "cell_type": "code",
   "execution_count": 100,
   "id": "f0a2fe8c-f07b-45f0-8563-055ae0362d99",
   "metadata": {},
   "outputs": [
    {
     "name": "stdout",
     "output_type": "stream",
     "text": [
      "Branch: lakefs://tutorial-2/main\n",
      "Commit for branch \"main\" completed.\n",
      "\n",
      "ID: \u001b[93me49fa6a607bb187b93eda6b7956dccb28c5e948074ec8c572c03f6074155e2f5\u001b[0m\n",
      "Message: add raw data\n",
      "Timestamp: 2022-10-31 09:25:29 +0000 UTC\n",
      "Parents: 721be364f770968707792189af16e3e8e57714f6b1e9e895655452103db274de\n",
      "\n"
     ]
    }
   ],
   "source": [
    "#lakectl commit <branch uri> [flags]\n",
    "!lakectl commit lakefs://tutorial/main --message \"add raw data\""
   ]
  },
  {
   "cell_type": "markdown",
   "id": "53ff53b9-8144-418a-9933-fafed926ed57",
   "metadata": {},
   "source": [
    "**Créer une nouvelle branche**"
   ]
  },
  {
   "cell_type": "code",
   "execution_count": 102,
   "id": "b1cf09ca-6393-4e4f-994a-556350fc5281",
   "metadata": {},
   "outputs": [
    {
     "name": "stdout",
     "output_type": "stream",
     "text": [
      "Source ref: lakefs://tutorial-2/main\n",
      "created branch 'transformed-data' e49fa6a607bb187b93eda6b7956dccb28c5e948074ec8c572c03f6074155e2f5\n"
     ]
    }
   ],
   "source": [
    "#lakectl branch create <branch uri> -s <source ref uri> [flags]\n",
    "!lakectl branch create lakefs://tutorial-2/transformed-data -s lakefs://tutorial-2/main"
   ]
  },
  {
   "cell_type": "markdown",
   "id": "c3a63db1-371e-42d8-9dda-2782563c5dea",
   "metadata": {},
   "source": [
    "On supprime les lignes contenant des valeurs manquantes et on crée une nouvelle colonne ``symmetry``."
   ]
  },
  {
   "cell_type": "code",
   "execution_count": null,
   "id": "18e0002e-6a75-4e6f-81e5-918a77a34207",
   "metadata": {},
   "outputs": [],
   "source": [
    "df = df.dropna(axis = 0)"
   ]
  },
  {
   "cell_type": "code",
   "execution_count": 106,
   "id": "a66c8240-816f-4707-b777-4a5f39d1a6e7",
   "metadata": {},
   "outputs": [],
   "source": [
    "import io\n",
    "with io.StringIO() as csv_buffer:\n",
    "    df_trans.to_csv(csv_buffer, index=False)\n",
    "    s3.put_object(Bucket=\"tutorial\", Key=\"transformed-data/data.csv\", Body=csv_buffer.getvalue())"
   ]
  },
  {
   "cell_type": "code",
   "execution_count": 108,
   "id": "4e9b4bc8-cf8a-4a2b-b1ca-82c93fd2d71c",
   "metadata": {},
   "outputs": [
    {
     "name": "stdout",
     "output_type": "stream",
     "text": [
      "Branch: lakefs://tutorial-2/transformed-data\n",
      "Commit for branch \"transformed-data\" completed.\n",
      "\n",
      "ID: \u001b[93ma534d8dd3b80ea7f2b18278726b7fcfd41df5eda5cbee33eb1290df7da37c860\u001b[0m\n",
      "Message: clean data\n",
      "Timestamp: 2022-10-31 09:26:51 +0000 UTC\n",
      "Parents: e49fa6a607bb187b93eda6b7956dccb28c5e948074ec8c572c03f6074155e2f5\n",
      "\n"
     ]
    }
   ],
   "source": [
    "!lakectl commit lakefs://tutorial-2/transformed-data --message \"clean data\""
   ]
  },
  {
   "cell_type": "code",
   "execution_count": 104,
   "id": "96e07381-e8ce-4454-bc10-67a5ed0c21a2",
   "metadata": {},
   "outputs": [
    {
     "name": "stderr",
     "output_type": "stream",
     "text": [
      "/tmp/ipykernel_126/1134722465.py:1: FutureWarning: The default value of numeric_only in DataFrame.corr is deprecated. In a future version, it will default to False. Select only valid columns or specify the value of numeric_only to silence this warning.\n",
      "  df.corr()\n"
     ]
    },
    {
     "data": {
      "text/html": [
       "<div>\n",
       "<style scoped>\n",
       "    .dataframe tbody tr th:only-of-type {\n",
       "        vertical-align: middle;\n",
       "    }\n",
       "\n",
       "    .dataframe tbody tr th {\n",
       "        vertical-align: top;\n",
       "    }\n",
       "\n",
       "    .dataframe thead th {\n",
       "        text-align: right;\n",
       "    }\n",
       "</style>\n",
       "<table border=\"1\" class=\"dataframe\">\n",
       "  <thead>\n",
       "    <tr style=\"text-align: right;\">\n",
       "      <th></th>\n",
       "      <th>carat</th>\n",
       "      <th>depth</th>\n",
       "      <th>table</th>\n",
       "      <th>price</th>\n",
       "      <th>x</th>\n",
       "      <th>y</th>\n",
       "      <th>z</th>\n",
       "    </tr>\n",
       "  </thead>\n",
       "  <tbody>\n",
       "    <tr>\n",
       "      <th>carat</th>\n",
       "      <td>1.000000</td>\n",
       "      <td>0.028224</td>\n",
       "      <td>0.181618</td>\n",
       "      <td>0.921591</td>\n",
       "      <td>0.975094</td>\n",
       "      <td>0.951722</td>\n",
       "      <td>0.953387</td>\n",
       "    </tr>\n",
       "    <tr>\n",
       "      <th>depth</th>\n",
       "      <td>0.028224</td>\n",
       "      <td>1.000000</td>\n",
       "      <td>-0.295779</td>\n",
       "      <td>-0.010647</td>\n",
       "      <td>-0.025289</td>\n",
       "      <td>-0.029341</td>\n",
       "      <td>0.094924</td>\n",
       "    </tr>\n",
       "    <tr>\n",
       "      <th>table</th>\n",
       "      <td>0.181618</td>\n",
       "      <td>-0.295779</td>\n",
       "      <td>1.000000</td>\n",
       "      <td>0.127134</td>\n",
       "      <td>0.195344</td>\n",
       "      <td>0.183760</td>\n",
       "      <td>0.150929</td>\n",
       "    </tr>\n",
       "    <tr>\n",
       "      <th>price</th>\n",
       "      <td>0.921591</td>\n",
       "      <td>-0.010647</td>\n",
       "      <td>0.127134</td>\n",
       "      <td>1.000000</td>\n",
       "      <td>0.884435</td>\n",
       "      <td>0.865421</td>\n",
       "      <td>0.861249</td>\n",
       "    </tr>\n",
       "    <tr>\n",
       "      <th>x</th>\n",
       "      <td>0.975094</td>\n",
       "      <td>-0.025289</td>\n",
       "      <td>0.195344</td>\n",
       "      <td>0.884435</td>\n",
       "      <td>1.000000</td>\n",
       "      <td>0.974701</td>\n",
       "      <td>0.970772</td>\n",
       "    </tr>\n",
       "    <tr>\n",
       "      <th>y</th>\n",
       "      <td>0.951722</td>\n",
       "      <td>-0.029341</td>\n",
       "      <td>0.183760</td>\n",
       "      <td>0.865421</td>\n",
       "      <td>0.974701</td>\n",
       "      <td>1.000000</td>\n",
       "      <td>0.952006</td>\n",
       "    </tr>\n",
       "    <tr>\n",
       "      <th>z</th>\n",
       "      <td>0.953387</td>\n",
       "      <td>0.094924</td>\n",
       "      <td>0.150929</td>\n",
       "      <td>0.861249</td>\n",
       "      <td>0.970772</td>\n",
       "      <td>0.952006</td>\n",
       "      <td>1.000000</td>\n",
       "    </tr>\n",
       "  </tbody>\n",
       "</table>\n",
       "</div>"
      ],
      "text/plain": [
       "          carat     depth     table     price         x         y         z\n",
       "carat  1.000000  0.028224  0.181618  0.921591  0.975094  0.951722  0.953387\n",
       "depth  0.028224  1.000000 -0.295779 -0.010647 -0.025289 -0.029341  0.094924\n",
       "table  0.181618 -0.295779  1.000000  0.127134  0.195344  0.183760  0.150929\n",
       "price  0.921591 -0.010647  0.127134  1.000000  0.884435  0.865421  0.861249\n",
       "x      0.975094 -0.025289  0.195344  0.884435  1.000000  0.974701  0.970772\n",
       "y      0.951722 -0.029341  0.183760  0.865421  0.974701  1.000000  0.952006\n",
       "z      0.953387  0.094924  0.150929  0.861249  0.970772  0.952006  1.000000"
      ]
     },
     "execution_count": 104,
     "metadata": {},
     "output_type": "execute_result"
    }
   ],
   "source": [
    "df.corr()"
   ]
  },
  {
   "cell_type": "markdown",
   "id": "d67e0d19-f5d8-46ad-b7e1-aa9bcb6faf38",
   "metadata": {},
   "source": [
    "On modifie le tableau en créant des nouveaux colonnes."
   ]
  },
  {
   "cell_type": "code",
   "execution_count": null,
   "id": "6999be1b-d297-441b-afb8-5749743a5df5",
   "metadata": {},
   "outputs": [],
   "source": [
    "df_trans = pd.get_dummies(df)\n",
    "\n",
    "df_trans['symmetry'] = df['x'] / df['y']\n",
    "df_trans.head(2)"
   ]
  },
  {
   "cell_type": "markdown",
   "id": "3288a91b-7099-46b8-9136-2d717acb44af",
   "metadata": {},
   "source": [
    "**Sauvegarder les modifications**"
   ]
  },
  {
   "cell_type": "code",
   "execution_count": 115,
   "id": "e849df24-d7a3-4763-9a5d-aa8416a1de1d",
   "metadata": {},
   "outputs": [],
   "source": [
    "import io\n",
    "with io.StringIO() as csv_buffer:\n",
    "    df_trans.to_csv(csv_buffer, index=False)\n",
    "\n",
    "    response = s3.put_object(\n",
    "        Bucket=\"tutorial\", Key=\"transformed-data/data.csv\", Body=csv_buffer.getvalue()\n",
    "    )"
   ]
  },
  {
   "cell_type": "code",
   "execution_count": 116,
   "id": "53ea0676-ab4f-4bd6-a763-7deed4942ec9",
   "metadata": {},
   "outputs": [
    {
     "name": "stdout",
     "output_type": "stream",
     "text": [
      "Branch: lakefs://tutorial-2/transformed-data\n",
      "Commit for branch \"transformed-data\" completed.\n",
      "\n",
      "ID: \u001b[93m433ee1bae2acfd2ffe76bdc8f3e1379d762e7f9fe65a088a062af686fb337bf3\u001b[0m\n",
      "Message: transform data\n",
      "Timestamp: 2022-10-31 09:29:08 +0000 UTC\n",
      "Parents: a534d8dd3b80ea7f2b18278726b7fcfd41df5eda5cbee33eb1290df7da37c860\n",
      "\n"
     ]
    }
   ],
   "source": [
    "!lakectl commit lakefs://tutorial/transformed-data --message \"transform data\""
   ]
  },
  {
   "cell_type": "markdown",
   "id": "4238db66-7568-42b2-90f4-1fd756df56c4",
   "metadata": {},
   "source": [
    "**Revert**\n",
    "\n",
    "Une fonctionnalité importante de LakeFS est d'annuler un commit et de revenir en arrière. Le deuxième champ indique l'Id du commit à annuler. Vous pouvez le trouver sur l'UI de LakeFS."
   ]
  },
  {
   "cell_type": "code",
   "execution_count": 118,
   "id": "90f579d2-d775-48a0-b446-360a41667a35",
   "metadata": {},
   "outputs": [
    {
     "name": "stdout",
     "output_type": "stream",
     "text": [
      "Branch: lakefs://tutorial-2/transformed-data\n",
      "commit 96b70673a909666b250a8cfe71e604baf2b9d6ba3cf6acc8c5a5cdb6dbabc646 successfully reverted\n"
     ]
    }
   ],
   "source": [
    "#lakectl branch revert <branch uri> <commit ref to revert> [<more commits>...] [flags]\n",
    "!lakectl branch revert -y lakefs://tutorial/transformed-data 96b70673a909666b250a8cfe71e604baf2b9d6ba3cf6acc8c5a5cdb6dbabc646"
   ]
  }
 ],
 "metadata": {
  "kernelspec": {
   "display_name": "Python 3 (ipykernel)",
   "language": "python",
   "name": "python3"
  },
  "language_info": {
   "codemirror_mode": {
    "name": "ipython",
    "version": 3
   },
   "file_extension": ".py",
   "mimetype": "text/x-python",
   "name": "python",
   "nbconvert_exporter": "python",
   "pygments_lexer": "ipython3",
   "version": "3.10.4"
  }
 },
 "nbformat": 4,
 "nbformat_minor": 5
}
